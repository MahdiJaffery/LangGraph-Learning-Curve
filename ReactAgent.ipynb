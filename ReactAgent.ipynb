{
 "cells": [
  {
   "cell_type": "code",
   "execution_count": 1,
   "id": "2e9137a9",
   "metadata": {},
   "outputs": [],
   "source": [
    "import os\n",
    "from dotenv import find_dotenv, load_dotenv\n",
    "\n",
    "try:\n",
    "    envPath = find_dotenv()\n",
    "\n",
    "    if not envPath:\n",
    "        raise ModuleNotFoundError(\".env FILE NOT FOUND\")\n",
    "    \n",
    "    if not load_dotenv(envPath):\n",
    "        raise EnvironmentError(\"FAILED TO LOAD .env FILE\")\n",
    "    \n",
    "    openai_api_key, openai_model = os.environ.get(\"OPENAI_API_KEY\"), os.environ.get(\"OPENAI_MODEL\")\n",
    "\n",
    "    if not openai_api_key:\n",
    "        raise ValueError('API KEY NOT FOUND')\n",
    "    if not openai_model:\n",
    "        raise ValueError('MODEL NOT FOUND')\n",
    "except Exception as e:\n",
    "    print(f\"ERROR: {e}\")\n",
    "    openai_api_key, openai_model = None, None"
   ]
  },
  {
   "cell_type": "code",
   "execution_count": 2,
   "id": "bba0affa",
   "metadata": {},
   "outputs": [],
   "source": [
    "from langgraph.graph import MessagesState, StateGraph, START, END\n",
    "from langchain_core.messages import HumanMessage, SystemMessage, AnyMessage\n",
    "from langchain_community.tools import DuckDuckGoSearchRun\n",
    "from langgraph.prebuilt import tools_condition, ToolNode\n",
    "from typing import Annotated, TypedDict\n",
    "import operator\n",
    "from langgraph.graph.message import add_messages\n",
    "from langchain_openai import ChatOpenAI"
   ]
  },
  {
   "cell_type": "code",
   "execution_count": 8,
   "id": "81b39c93",
   "metadata": {},
   "outputs": [],
   "source": [
    "def multiply(a: int, b: int) -> int:\n",
    "    \"\"\"Multiply Tool\"\"\"\n",
    "    return a * b\n",
    "\n",
    "def divide(a: int, b: int) -> int:\n",
    "    \"\"\"Divide Tool\"\"\"\n",
    "    try:\n",
    "        result = a / b\n",
    "\n",
    "    except Exception as e:\n",
    "        print(f\"Error: {e}\")\n",
    "        result = 0\n",
    "\n",
    "    return result\n",
    "\n",
    "def add(a: int, b: int) -> int:\n",
    "    \"\"\"Addition Tool\"\"\"\n",
    "    return a + b\n",
    "\n",
    "def subtract(a: int, b: int) -> int:\n",
    "    \"\"\"Subtraction Tool\"\"\"\n",
    "    return a - b"
   ]
  },
  {
   "cell_type": "code",
   "execution_count": 9,
   "id": "2502c9f6",
   "metadata": {},
   "outputs": [],
   "source": [
    "search = DuckDuckGoSearchRun()"
   ]
  },
  {
   "cell_type": "code",
   "execution_count": 12,
   "id": "3f39ee37",
   "metadata": {},
   "outputs": [
    {
     "data": {
      "text/plain": [
       "\"Asif Ali Zardari (born July 26, 1955, Karachi, Pakistan) is the president of Pakistan (2008-13; 2024- ) and is the first to have completed a full term in office. Since the assassination of former prime minister Benazir Bhutto, his wife and the leader of the Pakistan People's Party (PPP), he has been the de facto leader of the PPP. His son, Bilawal Bhutto Zardari, also plays a prominent ... Asif Ali Zardari [a] (born 26 July 1955) is a Pakistani politician who is serving as the 14th president of Pakistan since 2024, having held the same office from 2008 to 2013. He is the president of Pakistan People's Party Parliamentarians and was the co-chairperson of Pakistan People's Party from December 2007 until December 2015. [3] PRESIDENT OF THE ISLAMIC REPUBLIC OF P AKISTAN. Mr Asif Ali Zardari was sworn in office on the 10th of March 2024. He is the first President to have been elected twice to this office. Previously, he served as the 11th President of Pakistan from 9th September 2008 to 9th September 2013. For more detail click here President of Pakistan, Asif Ali Zardari, took office in March 2024. Within the country's governing system, the President has control over the armed forces and is thus considered the Head of ... In 2025, the President of Pakistan is Asif Ali Zardari, who assumed office on March 10, 2024. Unlike the Prime Minister, who holds executive power, the President serves as the ceremonial head of state and represents national unity. The President is elected by the Parliament and the provincial assemblies for a five-year term. Pakistan Prime ...\""
      ]
     },
     "execution_count": 12,
     "metadata": {},
     "output_type": "execute_result"
    }
   ],
   "source": [
    "search.invoke(\"Who is the President of Pakistan?\")"
   ]
  },
  {
   "cell_type": "code",
   "execution_count": null,
   "id": "d8ee2ed2",
   "metadata": {},
   "outputs": [],
   "source": []
  }
 ],
 "metadata": {
  "kernelspec": {
   "display_name": "venv",
   "language": "python",
   "name": "python3"
  },
  "language_info": {
   "codemirror_mode": {
    "name": "ipython",
    "version": 3
   },
   "file_extension": ".py",
   "mimetype": "text/x-python",
   "name": "python",
   "nbconvert_exporter": "python",
   "pygments_lexer": "ipython3",
   "version": "3.12.3"
  }
 },
 "nbformat": 4,
 "nbformat_minor": 5
}
