{
 "cells": [
  {
   "cell_type": "code",
   "execution_count": 1,
   "id": "2e9137a9",
   "metadata": {},
   "outputs": [],
   "source": [
    "import os\n",
    "from dotenv import find_dotenv, load_dotenv\n",
    "\n",
    "try:\n",
    "    envPath = find_dotenv()\n",
    "\n",
    "    if not envPath:\n",
    "        raise ModuleNotFoundError(\".env FILE NOT FOUND\")\n",
    "    \n",
    "    if not load_dotenv(envPath):\n",
    "        raise EnvironmentError(\"FAILED TO LOAD .env FILE\")\n",
    "    \n",
    "    openai_api_key, openai_model = os.environ.get(\"OPENAI_API_KEY\"), os.environ.get(\"OPENAI_MODEL\")\n",
    "\n",
    "    if not openai_api_key:\n",
    "        raise ValueError('API KEY NOT FOUND')\n",
    "    if not openai_model:\n",
    "        raise ValueError('MODEL NOT FOUND')\n",
    "except Exception as e:\n",
    "    print(f\"ERROR: {e}\")\n",
    "    openai_api_key, openai_model = None, None"
   ]
  },
  {
   "cell_type": "code",
   "execution_count": 2,
   "id": "bba0affa",
   "metadata": {},
   "outputs": [],
   "source": [
    "from langgraph.graph import MessagesState, StateGraph, START, END\n",
    "from langchain_core.messages import HumanMessage, SystemMessage, AnyMessage\n",
    "from langchain_community.tools import DuckDuckGoSearchRun\n",
    "from langgraph.prebuilt import tools_condition, ToolNode\n",
    "from typing import Annotated, TypedDict\n",
    "import operator\n",
    "from langgraph.graph.message import add_messages\n",
    "from langchain_openai import ChatOpenAI"
   ]
  },
  {
   "cell_type": "code",
   "execution_count": 8,
   "id": "81b39c93",
   "metadata": {},
   "outputs": [],
   "source": [
    "def multiply(a: int, b: int) -> int:\n",
    "    \"\"\"Multiply Tool\"\"\"\n",
    "    return a * b\n",
    "\n",
    "def divide(a: int, b: int) -> int:\n",
    "    \"\"\"Divide Tool\"\"\"\n",
    "    try:\n",
    "        result = a / b\n",
    "\n",
    "    except Exception as e:\n",
    "        print(f\"Error: {e}\")\n",
    "        result = 0\n",
    "\n",
    "    return result\n",
    "\n",
    "def add(a: int, b: int) -> int:\n",
    "    \"\"\"Addition Tool\"\"\"\n",
    "    return a + b\n",
    "\n",
    "def subtract(a: int, b: int) -> int:\n",
    "    \"\"\"Subtraction Tool\"\"\"\n",
    "    return a - b"
   ]
  },
  {
   "cell_type": "code",
   "execution_count": 9,
   "id": "2502c9f6",
   "metadata": {},
   "outputs": [],
   "source": [
    "search = DuckDuckGoSearchRun()"
   ]
  },
  {
   "cell_type": "code",
   "execution_count": 12,
   "id": "3f39ee37",
   "metadata": {},
   "outputs": [
    {
     "data": {
      "text/plain": [
       "\"Asif Ali Zardari (born July 26, 1955, Karachi, Pakistan) is the president of Pakistan (2008-13; 2024- ) and is the first to have completed a full term in office. Since the assassination of former prime minister Benazir Bhutto, his wife and the leader of the Pakistan People's Party (PPP), he has been the de facto leader of the PPP. His son, Bilawal Bhutto Zardari, also plays a prominent ... Asif Ali Zardari [a] (born 26 July 1955) is a Pakistani politician who is serving as the 14th president of Pakistan since 2024, having held the same office from 2008 to 2013. He is the president of Pakistan People's Party Parliamentarians and was the co-chairperson of Pakistan People's Party from December 2007 until December 2015. [3] PRESIDENT OF THE ISLAMIC REPUBLIC OF P AKISTAN. Mr Asif Ali Zardari was sworn in office on the 10th of March 2024. He is the first President to have been elected twice to this office. Previously, he served as the 11th President of Pakistan from 9th September 2008 to 9th September 2013. For more detail click here President of Pakistan, Asif Ali Zardari, took office in March 2024. Within the country's governing system, the President has control over the armed forces and is thus considered the Head of ... In 2025, the President of Pakistan is Asif Ali Zardari, who assumed office on March 10, 2024. Unlike the Prime Minister, who holds executive power, the President serves as the ceremonial head of state and represents national unity. The President is elected by the Parliament and the provincial assemblies for a five-year term. Pakistan Prime ...\""
      ]
     },
     "execution_count": 12,
     "metadata": {},
     "output_type": "execute_result"
    }
   ],
   "source": [
    "search.invoke(\"Who is the President of Pakistan?\")"
   ]
  },
  {
   "cell_type": "code",
   "execution_count": 13,
   "id": "d8ee2ed2",
   "metadata": {},
   "outputs": [],
   "source": [
    "tools = [add, multiply, subtract, divide, search]\n",
    "\n",
    "llm = ChatOpenAI(model = openai_model, api_key = openai_api_key)"
   ]
  },
  {
   "cell_type": "code",
   "execution_count": 14,
   "id": "519ac4ca",
   "metadata": {},
   "outputs": [],
   "source": [
    "llmWithTools = llm.bind_tools(tools)"
   ]
  },
  {
   "cell_type": "code",
   "execution_count": 15,
   "id": "3659c675",
   "metadata": {},
   "outputs": [],
   "source": [
    "sys_msg = SystemMessage(content = 'You are a helpful assistant tasked with using search and arithmetic operations on inputs.')"
   ]
  },
  {
   "cell_type": "code",
   "execution_count": 16,
   "id": "b113262e",
   "metadata": {},
   "outputs": [],
   "source": [
    "def reasoner(state: MessagesState):\n",
    "    return {'messages': [llmWithTools.invoke([sys_msg] + state['messages'])]}"
   ]
  },
  {
   "cell_type": "code",
   "execution_count": 18,
   "id": "879dec3d",
   "metadata": {},
   "outputs": [
    {
     "data": {
      "image/png": "[encoded data removed]",
      "text/plain": [
       "<langgraph.graph.state.CompiledStateGraph object at 0x7da30eeeb890>"
      ]
     },
     "execution_count": 18,
     "metadata": {},
     "output_type": "execute_result"
    }
   ],
   "source": [
    "graph = StateGraph(MessagesState)\n",
    "\n",
    "graph.add_node('reasoner', reasoner)\n",
    "graph.add_node('tools', ToolNode(tools))\n",
    "\n",
    "graph.add_edge(START, \"reasoner\")\n",
    "graph.add_conditional_edges(\"reasoner\", tools_condition)\n",
    "graph.add_edge(\"tools\", \"reasoner\")\n",
    "\n",
    "reactGraph = graph.compile()\n",
    "reactGraph"
   ]
  },
  {
   "cell_type": "code",
   "execution_count": 24,
   "id": "ee3c9dfd",
   "metadata": {},
   "outputs": [],
   "source": [
    "messages = [HumanMessage(content = \"What is Imran Khan's age multiplied by the height of Mount Everest?\")]"
   ]
  },
  {
   "cell_type": "code",
   "execution_count": 25,
   "id": "0261cfe5",
   "metadata": {},
   "outputs": [],
   "source": [
    "messages = reactGraph.invoke({'messages': messages})"
   ]
  },
  {
   "cell_type": "code",
   "execution_count": 26,
   "id": "ecde0303",
   "metadata": {},
   "outputs": [
    {
     "name": "stdout",
     "output_type": "stream",
     "text": [
      "================================\u001b[1m Human Message \u001b[0m=================================\n",
      "\n",
      "What is Imran Khan's age multiplied by the height of Mount Everest?\n",
      "==================================\u001b[1m Ai Message \u001b[0m==================================\n",
      "Tool Calls:\n",
      "  duckduckgo_search (call_NH9TiPHjuH5UJifhrZDAS1ke)\n",
      " Call ID: call_NH9TiPHjuH5UJifhrZDAS1ke\n",
      "  Args:\n",
      "    query: Imran Khan age 2023\n",
      "  duckduckgo_search (call_0p34ZmS5GgBpX9uhpgUn7ki6)\n",
      " Call ID: call_0p34ZmS5GgBpX9uhpgUn7ki6\n",
      "  Args:\n",
      "    query: height of Mount Everest in meters\n",
      "=================================\u001b[1m Tool Message \u001b[0m=================================\n",
      "Name: duckduckgo_search\n",
      "\n",
      "Imran Khan is an antiestablishment politician in Pakistan who in 2022 became the first prime minister to be removed by a parliamentary vote. ... 1952, Lahore, Pakistan (age 72) (Show more) Title / Office: prime minister (2018-2022), Pakistan (Show more) Founder: ... In August 2023 Khan was convicted of corrupt practices after a trial court ... Check this page to read the detailed Biography of Imran Khan- his age, wife, family, affairs & much more! ... Khan shared a story about his battles with depression and body image struggles through a post on Instagram in October 2023. In the post, Imran disclosed that he had initially started working out and consuming anabolic steroids in an ... Discover the fascinating biography of Imran Khan. Learn about his age, net worth, career highlights, relationships, family, and more in this detailed bio. Imran Ahmed Khan Niazi, born on October 5, 1952, in Lahore, Pakistan, is a distinguished figure known for his multifaceted roles as a cricketer, philanthropist, and politician. He served as ... Khan in 2023. 22nd Prime Minister of Pakistan. In office. 18 August 2018 - 10 April 2022 ... Imran Ahmad Khan Niazi; 5 October 1952 (age 72) Lahore, West Punjab, Pakistan (present-day Punjab ... Imran Khan is one of the richest World Music Singer from Netherlands. According to our analysis, Wikipedia, Forbes & Business Insider, Imran Khan 's net worth $50 Million.(Last Update: December 11, 2023) He first began creating music in his late teens and by 2007 released his debut single \"Ni Nachleh.\"\n",
      "=================================\u001b[1m Tool Message \u001b[0m=================================\n",
      "Name: duckduckgo_search\n",
      "\n",
      "Mount Everest, mountain on the crest of the Great Himalayas of southern Asia that lies on the border between Nepal and the Tibet Autonomous Region of China. Reaching an elevation of 29,032 feet (8,849 meters), Mount Everest is the highest mountain in the world. It has long been revered by local peoples. The Survey of India conducted a new survey from 1952-1954 and calculated a new height of 8,847.73 meters and mount Everest height in feet is 29,028 feet, using improved triangulation. When a Chinese crew measured Everest again in 1975, they found that it was 8,848.13 meters (29,029.3 ft) high, including the snow cover. ... Mount Everest's official height is 8,848.86 meters (29,031.7 feet), a figure agreed upon by both China and Nepal in 2020. However, this number was not always set in stone. In fact, the height has changed several times throughout history, with the most significant update occurring in recent years. The official height of such a mountain is Mount Everest, which stands at 8,848.86 meters or 29,031.7 feet. Kilimanjaro is also found in Tanzania, with its height being 5,895 meters or 19,341 feet. Everest is 2,953.86 meters - nine hundred seventy feet - taller than Kilimanjaro. 2020: A collaborative effort by Nepal and China established a revision of Mount Everest's new height of 8,848.86 meters (29,032 feet). The newly updated measurement of the mighty mountain considers variables such as snow cover and the thickness of the ice cap to improve accuracy. Mount Everest Height in feet: 29,031.7 feet Mt Everest Height ...\n",
      "==================================\u001b[1m Ai Message \u001b[0m==================================\n",
      "Tool Calls:\n",
      "  multiply (call_kvm9wDcDX82E1Sn28p1K7X4y)\n",
      " Call ID: call_kvm9wDcDX82E1Sn28p1K7X4y\n",
      "  Args:\n",
      "    a: 72\n",
      "    b: 8848\n",
      "=================================\u001b[1m Tool Message \u001b[0m=================================\n",
      "Name: multiply\n",
      "\n",
      "637056\n",
      "==================================\u001b[1m Ai Message \u001b[0m==================================\n",
      "\n",
      "Imran Khan is 72 years old, and the height of Mount Everest is 8,848 meters. Multiplying these two values gives us \\( 72 \\times 8,848 = 637,056 \\). \n",
      "\n",
      "Therefore, the result is **637,056**.\n"
     ]
    }
   ],
   "source": [
    "for m in messages['messages']:\n",
    "    m.pretty_print()"
   ]
  },
  {
   "cell_type": "code",
   "execution_count": 27,
   "id": "048c7ca5",
   "metadata": {},
   "outputs": [],
   "source": [
    "import yfinance as yf\n",
    "\n",
    "def stockTool(ticker: str) -> float:\n",
    "    \"\"\"Stock Tool\"\"\"\n",
    "\n",
    "    stock = yf.Ticker(ticker)\n",
    "    return stock.info['previousClose']"
   ]
  },
  {
   "cell_type": "code",
   "execution_count": 28,
   "id": "ea31f16c",
   "metadata": {},
   "outputs": [
    {
     "data": {
      "text/plain": [
       "199.2"
      ]
     },
     "execution_count": 28,
     "metadata": {},
     "output_type": "execute_result"
    }
   ],
   "source": [
    "stockTool(\"AAPL\")"
   ]
  },
  {
   "cell_type": "code",
   "execution_count": 29,
   "id": "b89c5800",
   "metadata": {},
   "outputs": [],
   "source": [
    "def reasoner(state):\n",
    "    query = state['query']\n",
    "    messages = state['messages']\n",
    "\n",
    "    sys_msg = SystemMessage(content = 'You are a helpful assistant tasked with using search, Yahoo Finance and arithmetic operations on inputs.')\n",
    "    messsge = HumanMessage(content = query)\n",
    "    messages.append(message)\n",
    "\n",
    "    result = [llmWithTools.invoke([sys_msg] + messages)]\n",
    "    return {'messages': result}"
   ]
  },
  {
   "cell_type": "code",
   "execution_count": 31,
   "id": "06e33fc2",
   "metadata": {},
   "outputs": [],
   "source": [
    "tools = [add, subtract, multiply, divide, search, stockTool]"
   ]
  },
  {
   "cell_type": "code",
   "execution_count": 32,
   "id": "11e913ef",
   "metadata": {},
   "outputs": [],
   "source": [
    "llmWithTools = llm.bind_tools(tools)"
   ]
  },
  {
   "cell_type": "code",
   "execution_count": 33,
   "id": "89bab60b",
   "metadata": {},
   "outputs": [],
   "source": [
    "class GraphState(TypedDict):\n",
    "    \"\"\"Graph State\"\"\"\n",
    "    query: str\n",
    "    finance: str\n",
    "    finalAnswer: str\n",
    "\n",
    "    messages: Annotated[list[AnyMessage], operator.add]"
   ]
  },
  {
   "cell_type": "code",
   "execution_count": 34,
   "id": "4e061125",
   "metadata": {},
   "outputs": [
    {
     "data": {
      "image/png": "[encoded data removed]",
      "text/plain": [
       "<langgraph.graph.state.CompiledStateGraph object at 0x7da2e936cda0>"
      ]
     },
     "execution_count": 34,
     "metadata": {},
     "output_type": "execute_result"
    }
   ],
   "source": [
    "graph = StateGraph(GraphState)\n",
    "\n",
    "graph.add_node(\"reasoner\", reasoner)\n",
    "graph.add_node(\"tools\", ToolNode(tools))\n",
    "\n",
    "graph.add_edge(START, \"reasoner\")\n",
    "graph.add_conditional_edges(\"reasoner\", tools_condition)\n",
    "graph.add_edge(\"tools\", \"reasoner\")\n",
    "\n",
    "reactGraph = graph.compile()\n",
    "reactGraph"
   ]
  },
  {
   "cell_type": "code",
   "execution_count": null,
   "id": "98c7d4cd",
   "metadata": {},
   "outputs": [],
   "source": []
  }
 ],
 "metadata": {
  "kernelspec": {
   "display_name": "venv",
   "language": "python",
   "name": "python3"
  },
  "language_info": {
   "codemirror_mode": {
    "name": "ipython",
    "version": 3
   },
   "file_extension": ".py",
   "mimetype": "text/x-python",
   "name": "python",
   "nbconvert_exporter": "python",
   "pygments_lexer": "ipython3",
   "version": "3.12.3"
  }
 },
 "nbformat": 4,
 "nbformat_minor": 5
}
