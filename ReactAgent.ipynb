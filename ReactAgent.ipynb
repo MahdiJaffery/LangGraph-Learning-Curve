{
 "cells": [
  {
   "cell_type": "code",
   "execution_count": 1,
   "id": "2e9137a9",
   "metadata": {},
   "outputs": [],
   "source": [
    "import os\n",
    "from dotenv import find_dotenv, load_dotenv\n",
    "\n",
    "try:\n",
    "    envPath = find_dotenv()\n",
    "\n",
    "    if not envPath:\n",
    "        raise ModuleNotFoundError(\".env FILE NOT FOUND\")\n",
    "    \n",
    "    if not load_dotenv(envPath):\n",
    "        raise EnvironmentError(\"FAILED TO LOAD .env FILE\")\n",
    "    \n",
    "    openai_api_key, openai_model = os.environ.get(\"OPENAI_API_KEY\"), os.environ.get(\"OPENAI_MODEL\")\n",
    "\n",
    "    if not openai_api_key:\n",
    "        raise ValueError('API KEY NOT FOUND')\n",
    "    if not openai_model:\n",
    "        raise ValueError('MODEL NOT FOUND')\n",
    "except Exception as e:\n",
    "    print(f\"ERROR: {e}\")\n",
    "    openai_api_key, openai_model = None, None"
   ]
  },
  {
   "cell_type": "code",
   "execution_count": 2,
   "id": "bba0affa",
   "metadata": {},
   "outputs": [],
   "source": [
    "from langgraph.graph import MessagesState, StateGraph, START, END\n",
    "from langchain_core.messages import HumanMessage, SystemMessage, AnyMessage\n",
    "from langchain_community.tools import DuckDuckGoSearchRun\n",
    "from langgraph.prebuilt import tools_condition, ToolNode\n",
    "from typing import Annotated, TypedDict\n",
    "import operator\n",
    "from langgraph.graph.message import add_messages\n",
    "from langchain_openai import ChatOpenAI"
   ]
  }
 ],
 "metadata": {
  "kernelspec": {
   "display_name": "venv",
   "language": "python",
   "name": "python3"
  },
  "language_info": {
   "codemirror_mode": {
    "name": "ipython",
    "version": 3
   },
   "file_extension": ".py",
   "mimetype": "text/x-python",
   "name": "python",
   "nbconvert_exporter": "python",
   "pygments_lexer": "ipython3",
   "version": "3.12.3"
  }
 },
 "nbformat": 4,
 "nbformat_minor": 5
}
