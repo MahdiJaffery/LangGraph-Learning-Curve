{
 "cells": [
  {
   "cell_type": "code",
   "execution_count": 16,
   "id": "955c7939",
   "metadata": {},
   "outputs": [],
   "source": [
    "import os\n",
    "from dotenv import load_dotenv, find_dotenv\n",
    "\n",
    "try:\n",
    "    envPath = find_dotenv()\n",
    "\n",
    "    if not envPath:\n",
    "        raise ModuleNotFoundError(\".env FILE NOT FOUND\")\n",
    "    if not load_dotenv(envPath):\n",
    "        raise EnvironmentError(\"FAILED TO LOAD .env\")\n",
    "    \n",
    "    openai_api_key = os.environ.get(\"OPENAI_API_KEY\")\n",
    "    openai_model = os.environ.get(\"OPENAI_MODEL\")\n",
    "\n",
    "    if not openai_api_key:\n",
    "        raise ValueError(\"API NOT FOUND\")\n",
    "    if not openai_model:\n",
    "        raise ValueError(\"MODEL NOT FOUND\")\n",
    "except Exception as e:\n",
    "    print(f\"ERROR: {e}\")\n",
    "    openai_api_key, openai_model = None, None"
   ]
  },
  {
   "cell_type": "code",
   "execution_count": 2,
   "id": "c3bb779a",
   "metadata": {},
   "outputs": [],
   "source": [
    "from typing import Annotated, TypedDict, Sequence\n",
    "import operator, json\n",
    "from langchain_core.messages import BaseMessage\n",
    "from langgraph.checkpoint.memory import MemorySaver\n",
    "from langgraph.graph import StateGraph, START, END\n",
    "from langgraph.graph.message import add_messages\n",
    "from langgraph.prebuilt import ToolNode, tools_condition\n",
    "from langchain_core.tools import tool\n",
    "from langchain_community.tools.tavily_search import TavilySearchResults"
   ]
  },
  {
   "cell_type": "code",
   "execution_count": 3,
   "id": "b86967a2",
   "metadata": {},
   "outputs": [],
   "source": [
    "from langchain_openai import ChatOpenAI\n",
    "\n",
    "llm = ChatOpenAI(model = openai_model, api_key = openai_api_key)"
   ]
  },
  {
   "cell_type": "code",
   "execution_count": 7,
   "id": "6df13dea",
   "metadata": {},
   "outputs": [
    {
     "data": {
      "text/plain": [
       "'Hello! How can I assist you today?'"
      ]
     },
     "execution_count": 7,
     "metadata": {},
     "output_type": "execute_result"
    }
   ],
   "source": [
    "llm.invoke(\"Hi there\").content"
   ]
  },
  {
   "cell_type": "code",
   "execution_count": 18,
   "id": "365d8c32",
   "metadata": {},
   "outputs": [
    {
     "data": {
      "text/plain": [
       "[{'title': 'President of the United States - Wikipedia',\n",
       "  'url': 'https://en.wikipedia.org/wiki/President_of_the_United_States',\n",
       "  'content': '*   [Minority Leader](https://en.wikipedia.org/wiki/Party_leaders_of_the_United_States_Senate \"Party leaders of the United States Senate\")[Chuck Schumer](https://en.wikipedia.org/wiki/Chuck_Schumer \"Chuck Schumer\") (D)\\n[Executive](https://en.wikipedia.org/wiki/Executive_branch_of_the_United_States \"Executive branch of the United States\")\\n\\n*   **President of the United States**\\n\\n*   [Donald Trump](https://en.wikipedia.org/wiki/Donald_Trump \"Donald Trump\") (R) [...] resignation\").[[C]](https://en.wikipedia.org/wiki/President_of_the_United_States#cite_note-22) In all, [45 individuals](https://en.wikipedia.org/wiki/List_of_presidents_of_the_United_States \"List of presidents of the United States\") have served 47 presidencies spanning 60 four-year terms.[[D]](https://en.wikipedia.org/wiki/President_of_the_United_States#cite_note-24)[Donald Trump](https://en.wikipedia.org/wiki/Donald_Trump \"Donald Trump\") is the 47th and current president since January 20, [...] Nixon](https://en.wikipedia.org/wiki/Richard_Nixon \"Richard Nixon\"), [Ronald Reagan](https://en.wikipedia.org/wiki/Ronald_Reagan \"Ronald Reagan\"), [Theodore Roosevelt](https://en.wikipedia.org/wiki/Theodore_Roosevelt \"Theodore Roosevelt\"), [William Howard Taft](https://en.wikipedia.org/wiki/William_Howard_Taft \"William Howard Taft\"), and **[Donald Trump](https://en.wikipedia.org/wiki/Donald_Trump \"Donald Trump\") (incumbent)** |',\n",
       "  'score': 0.8124067},\n",
       " {'title': 'President of the United States',\n",
       "  'url': 'https://usun.usmission.gov/our-leaders/the-president-of-the-united-states/',\n",
       "  'content': '*   [Remarks and Highlights](https://usun.usmission.gov/category/remarks-and-highlights/)\\n\\nPresident of the United States\\n==============================\\n\\n[Home](https://usun.usmission.gov/)[Home](https://usun.usmission.gov/) | [Our Leaders](https://usun.usmission.gov/our-leaders/) | President of the United States\\n\\n![Image 2](https://edit.usembassy.gov/wp-content/uploads/Donald-J-Trump-600x600-1.png)\\n\\n### President Donald J. Trump',\n",
       "  'score': 0.756376},\n",
       " {'title': 'The White House',\n",
       "  'url': 'https://www.whitehouse.gov/',\n",
       "  'content': '*   [Administration](https://www.whitehouse.gov/administration/)\\n    *   [Donald J. Trump](https://www.whitehouse.gov/administration/donald-j-trump/)\\n    *   [JD Vance](https://www.whitehouse.gov/administration/jd-vance/)\\n    *   [Melania Trump](https://www.whitehouse.gov/administration/melania-trump/)\\n    *   [Usha Vance](https://www.whitehouse.gov/administration/usha-vance/)\\n    *   [The Cabinet](https://www.whitehouse.gov/administration/the-cabinet/)',\n",
       "  'score': 0.69024646}]"
      ]
     },
     "execution_count": 18,
     "metadata": {},
     "output_type": "execute_result"
    }
   ],
   "source": [
    "@tool\n",
    "def multiply(a: int, b: int) -> int:\n",
    "    \"\"\"Multiplication Tool\"\"\"\n",
    "    return a * b\n",
    "\n",
    "@tool\n",
    "def search(query: str):\n",
    "    \"\"\"Search Tool\"\"\"\n",
    "    tavily = TavilySearchResults()\n",
    "    result = tavily.invoke(query)\n",
    "    return result\n",
    "\n",
    "search('Who is the president of USA?')"
   ]
  },
  {
   "cell_type": "code",
   "execution_count": 20,
   "id": "11c7453a",
   "metadata": {},
   "outputs": [],
   "source": [
    "tools = [search, multiply]\n",
    "\n",
    "llmWithTools = llm.bind_tools(tools)"
   ]
  },
  {
   "cell_type": "code",
   "execution_count": null,
   "id": "95212219",
   "metadata": {},
   "outputs": [],
   "source": [
    "class AgentState:\n",
    "    messages: Annotated[Sequence[BaseMessage], operator.add]\n",
    "\n",
    "def invokeModel(state: AgentState):\n",
    "    messages = state['messages']\n",
    "    question = messages[-1]\n",
    "    return {'messages': [llmWithTools.invoke(question)]}"
   ]
  },
  {
   "cell_type": "code",
   "execution_count": 22,
   "id": "7f10b079",
   "metadata": {},
   "outputs": [],
   "source": [
    "def router(state):\n",
    "    tool_calls = state['messages'][-1].additional_kwargs.get(\"tool_calls\", [])\n",
    "\n",
    "    if len(tool_calls):\n",
    "        return \"tool\"\n",
    "    return \"end\""
   ]
  },
  {
   "cell_type": "code",
   "execution_count": 26,
   "id": "9f52592d",
   "metadata": {},
   "outputs": [
    {
     "data": {
      "text/plain": [
       "<langgraph.graph.state.StateGraph at 0x7900acd46870>"
      ]
     },
     "execution_count": 26,
     "metadata": {},
     "output_type": "execute_result"
    }
   ],
   "source": [
    "graph = StateGraph(AgentState)\n",
    "\n",
    "graph.add_node(\"ai_assistant\", invokeModel)\n",
    "graph.add_node(\"tool\", invokeModel)"
   ]
  },
  {
   "cell_type": "code",
   "execution_count": 27,
   "id": "57b968e4",
   "metadata": {},
   "outputs": [
    {
     "data": {
      "image/png": "[encoded data removed]",
      "text/plain": [
       "<langgraph.graph.state.CompiledStateGraph object at 0x7900acf3aa20>"
      ]
     },
     "execution_count": 27,
     "metadata": {},
     "output_type": "execute_result"
    }
   ],
   "source": [
    "graph.add_conditional_edges(\"ai_assistant\", router, {\"tool\": \"tool\", \"end\": END})\n",
    "graph.add_edge(\"tool\", END)\n",
    "\n",
    "graph.set_entry_point(\"ai_assistant\")\n",
    "\n",
    "app = graph.compile()\n",
    "app"
   ]
  }
 ],
 "metadata": {
  "kernelspec": {
   "display_name": "venv",
   "language": "python",
   "name": "python3"
  },
  "language_info": {
   "codemirror_mode": {
    "name": "ipython",
    "version": 3
   },
   "file_extension": ".py",
   "mimetype": "text/x-python",
   "name": "python",
   "nbconvert_exporter": "python",
   "pygments_lexer": "ipython3",
   "version": "3.12.3"
  }
 },
 "nbformat": 4,
 "nbformat_minor": 5
}
